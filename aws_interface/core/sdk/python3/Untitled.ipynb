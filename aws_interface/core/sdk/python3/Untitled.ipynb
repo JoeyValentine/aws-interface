{
 "cells": [
  {
   "cell_type": "code",
   "execution_count": 1,
   "metadata": {},
   "outputs": [],
   "source": [
    "import aws_interface as awsi\n",
    "import json"
   ]
  },
  {
   "cell_type": "code",
   "execution_count": 2,
   "metadata": {
    "scrolled": false
   },
   "outputs": [
    {
     "name": "stdout",
     "output_type": "stream",
     "text": [
      "Those are examples of aws_interface usage\n",
      "--------------------------------API Name: login---------------------------------\n",
      "[SDK Function Call Format]\n",
      "call_api(\"login\", {\n",
      "    \"email\": \"str\",\n",
      "    \"password\": \"str\"\n",
      "})\n",
      "[REST API Format]\n",
      "{\n",
      "    \"input_format\": {\n",
      "        \"email\": \"str\",\n",
      "        \"password\": \"str\"\n",
      "    },\n",
      "    \"output_format\": {\n",
      "        \"message\": \"str\",\n",
      "        \"error\": \"str\",\n",
      "        \"session_id\": \"str\"\n",
      "    }\n",
      "}\n",
      "--------------------------------API Name: logout--------------------------------\n",
      "[SDK Function Call Format]\n",
      "call_api(\"logout\", {\n",
      "    \"session_id\": \"str\"\n",
      "})\n",
      "[REST API Format]\n",
      "{\n",
      "    \"input_format\": {\n",
      "        \"session_id\": \"str\"\n",
      "    },\n",
      "    \"output_format\": {\n",
      "        \"message\": \"str\"\n",
      "    }\n",
      "}\n",
      "-------------------------------API Name: register-------------------------------\n",
      "[SDK Function Call Format]\n",
      "call_api(\"register\", {\n",
      "    \"email\": \"str\",\n",
      "    \"password\": \"str\",\n",
      "    \"extra\": \"map\"\n",
      "})\n",
      "[REST API Format]\n",
      "{\n",
      "    \"input_format\": {\n",
      "        \"email\": \"str\",\n",
      "        \"password\": \"str\",\n",
      "        \"extra\": \"map\"\n",
      "    },\n",
      "    \"output_format\": {\n",
      "        \"message\": \"str\"\n",
      "    }\n",
      "}\n",
      "----------------------------------API Name: me----------------------------------\n",
      "[SDK Function Call Format]\n",
      "call_api(\"me\", null)\n",
      "[REST API Format]\n",
      "{}\n",
      "--------------------------------API Name: guest---------------------------------\n",
      "[SDK Function Call Format]\n",
      "call_api(\"guest\", {\n",
      "    \"guest_id\": \"str?\"\n",
      "})\n",
      "[REST API Format]\n",
      "{\n",
      "    \"input_format\": {\n",
      "        \"guest_id\": \"str?\"\n",
      "    },\n",
      "    \"output_format\": {\n",
      "        \"guest_id\": \"str\",\n",
      "        \"session_id\": \"str\"\n",
      "    }\n",
      "}\n",
      "-------------------------------API Name: get_user-------------------------------\n",
      "[SDK Function Call Format]\n",
      "call_api(\"get_user\", {\n",
      "    \"user_id\": \"str\"\n",
      "})\n",
      "[REST API Format]\n",
      "{\n",
      "    \"input_format\": {\n",
      "        \"user_id\": \"str\"\n",
      "    },\n",
      "    \"output_format\": {\n",
      "        \"item\": {\n",
      "            \"id\": \"str\",\n",
      "            \"creationDate\": \"int\",\n",
      "            \"email\": \"str\",\n",
      "            \"passwordHash\": \"str\",\n",
      "            \"salt\": \"str\",\n",
      "            \"group\": \"str\",\n",
      "            \"extra\": \"map\"\n",
      "        }\n",
      "    }\n",
      "}\n",
      "----------------------------API Name: get_user_count----------------------------\n",
      "[SDK Function Call Format]\n",
      "call_api(\"get_user_count\", {})\n",
      "[REST API Format]\n",
      "{\n",
      "    \"input_format\": {},\n",
      "    \"output_format\": {\n",
      "        \"item\": {\n",
      "            \"count\": \"int\"\n",
      "        }\n",
      "    }\n",
      "}\n",
      "-------------------------------API Name: set_user-------------------------------\n",
      "[SDK Function Call Format]\n",
      "call_api(\"set_user\", null)\n",
      "[REST API Format]\n",
      "{}\n",
      "-----------------------------API Name: delete_user------------------------------\n",
      "[SDK Function Call Format]\n",
      "call_api(\"delete_user\", {\n",
      "    \"session_id\": \"str\",\n",
      "    \"user_id\": \"str\"\n",
      "})\n",
      "[REST API Format]\n",
      "{\n",
      "    \"input_format\": {\n",
      "        \"session_id\": \"str\",\n",
      "        \"user_id\": \"str\"\n",
      "    },\n",
      "    \"output_format\": {\n",
      "        \"success\": \"bool\"\n",
      "    }\n",
      "}\n"
     ]
    }
   ],
   "source": [
    "awsi.examples()"
   ]
  },
  {
   "cell_type": "code",
   "execution_count": 6,
   "metadata": {},
   "outputs": [
    {
     "data": {
      "text/plain": [
       "'https://xoog7vz075.execute-api.ap-northeast-2.amazonaws.com/prod_aws_interface/auth-c86eb0f8-d86e-4a19-b520-15cc610f4f5e'"
      ]
     },
     "execution_count": 6,
     "metadata": {},
     "output_type": "execute_result"
    }
   ],
   "source": [
    "awsi.get_api_url()"
   ]
  },
  {
   "cell_type": "code",
   "execution_count": 12,
   "metadata": {},
   "outputs": [
    {
     "data": {
      "text/plain": [
       "{'errorMessage': 'An error occurred (ValidationException) when calling the GetItem operation: The provided key element does not match the schema',\n",
       " 'errorType': 'ClientError',\n",
       " 'stackTrace': [['/var/task/cloud/lambda_function.py',\n",
       "   47,\n",
       "   'handler',\n",
       "   \"user = get_me.do(data, boto3).get('item', None)\"],\n",
       "  ['/var/task/cloud/auth/get_me.py',\n",
       "   35,\n",
       "   'do',\n",
       "   'result = dynamo.get_item(table_name, session_id)'],\n",
       "  ['/var/task/cloud/aws.py', 339, 'get_item', \"'id': item_id\"],\n",
       "  ['/var/runtime/boto3/resources/factory.py',\n",
       "   520,\n",
       "   'do_action',\n",
       "   'response = action(self, *args, **kwargs)'],\n",
       "  ['/var/runtime/boto3/resources/action.py',\n",
       "   83,\n",
       "   '__call__',\n",
       "   'response = getattr(parent.meta.client, operation_name)(**params)'],\n",
       "  ['/var/runtime/botocore/client.py',\n",
       "   314,\n",
       "   '_api_call',\n",
       "   'return self._make_api_call(operation_name, kwargs)'],\n",
       "  ['/var/runtime/botocore/client.py',\n",
       "   612,\n",
       "   '_make_api_call',\n",
       "   'raise error_class(parsed_response, operation_name)']]}"
      ]
     },
     "execution_count": 12,
     "metadata": {},
     "output_type": "execute_result"
    }
   ],
   "source": [
    "awsi.call_api('get_user_count', {})"
   ]
  },
  {
   "cell_type": "code",
   "execution_count": null,
   "metadata": {},
   "outputs": [],
   "source": []
  }
 ],
 "metadata": {
  "kernelspec": {
   "display_name": "Python 3",
   "language": "python",
   "name": "python3"
  },
  "language_info": {
   "codemirror_mode": {
    "name": "ipython",
    "version": 3
   },
   "file_extension": ".py",
   "mimetype": "text/x-python",
   "name": "python",
   "nbconvert_exporter": "python",
   "pygments_lexer": "ipython3",
   "version": "3.6.5"
  }
 },
 "nbformat": 4,
 "nbformat_minor": 2
}
